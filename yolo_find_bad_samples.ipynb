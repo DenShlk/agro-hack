{
 "cells": [
  {
   "cell_type": "code",
   "execution_count": 208,
   "metadata": {
    "collapsed": true,
    "pycharm": {
     "name": "#%%\n"
    }
   },
   "outputs": [],
   "source": [
    "import os\n",
    "from os import path\n",
    "import shutil\n",
    "import numpy as np\n",
    "import matplotlib.pyplot as plt\n",
    "import pandas as pd\n",
    "from PIL import Image, ImageDraw\n",
    "from ply import read_ply\n",
    "from tqdm.auto import tqdm, trange\n",
    "import torch\n",
    "import pandas as pd"
   ]
  },
  {
   "cell_type": "code",
   "execution_count": 209,
   "outputs": [],
   "source": [
    "from plotly import express as px\n",
    "from plotly import io as pio\n",
    "\n",
    "pio.templates.default = \"plotly_dark\""
   ],
   "metadata": {
    "collapsed": false,
    "pycharm": {
     "name": "#%%\n"
    }
   }
  },
  {
   "cell_type": "code",
   "execution_count": 238,
   "outputs": [],
   "source": [
    "CHECKPOINT_PATH = \"yolov5/agro-hack-yolo/exp21/weights/best.pt\"\n",
    "DATA_PATH = \"E:\\\\GENA_RT\\\\DATA\\\\agro_hack\\\\final_test\"\n",
    "CACHE_PATH = path.join(DATA_PATH, 'cache')\n",
    "RESULTS_PATH = path.join(DATA_PATH, 'results')\n",
    "\n",
    "chunks = ['20210901_152837_step_20',\n",
    "          '20210929_092132_step_20',\n",
    "          '20220719_185720_step_40',\n",
    "          '20220720_101342_step_40',\n",
    "          '20220724_143417_step_40'][1:]"
   ],
   "metadata": {
    "collapsed": false,
    "pycharm": {
     "name": "#%%\n"
    }
   }
  },
  {
   "cell_type": "code",
   "execution_count": 210,
   "outputs": [],
   "source": [],
   "metadata": {
    "collapsed": false,
    "pycharm": {
     "name": "#%%\n"
    }
   }
  },
  {
   "cell_type": "code",
   "execution_count": 211,
   "outputs": [],
   "source": [
    "def sort_by_suffix_number(arr):\n",
    "    arr = [(int(e[e.index('_')+1:]), e) for e in arr]\n",
    "    arr = sorted(arr)\n",
    "    return [e[1] for e in arr]"
   ],
   "metadata": {
    "collapsed": false,
    "pycharm": {
     "name": "#%%\n"
    }
   }
  },
  {
   "cell_type": "code",
   "execution_count": 212,
   "outputs": [],
   "source": [
    "def depth_map_from_ply(ply_path):\n",
    "    points = read_ply(ply_path)['points'].to_numpy()\n",
    "\n",
    "    cx = 240 #  160\n",
    "    cy = len(points) // cx\n",
    "\n",
    "    depth_map = np.zeros((cx, cy), dtype=float)\n",
    "    for x in range(cx):\n",
    "        for y in range(cy):\n",
    "            depth_map[x][y] = np.linalg.norm(np.array(list(points[x * cy + y])))\n",
    "            if depth_map[x][y] < 0.01:\n",
    "                depth_map[x][y] = 15\n",
    "\n",
    "    depth_map -= np.min(depth_map)\n",
    "    depth_map = depth_map / np.max(depth_map)\n",
    "\n",
    "    return depth_map\n",
    "\n",
    "def swap_channel(rgb, depth, ch):\n",
    "    rgb_np = np.array(rgb)\n",
    "    depth_np = np.array(depth)\n",
    "    rgb_np = np.transpose(rgb_np, (2, 0, 1))\n",
    "    rgb_np[ch] = depth_np\n",
    "    rgb_np = np.transpose(rgb_np, (1, 2, 0))\n",
    "    return Image.fromarray(rgb_np)\n",
    "\n",
    "def image_from_package(package_path):\n",
    "    depth = depth_map_from_ply(path.join(package_path, 'point_cloud.ply'))\n",
    "    depth = Image.fromarray(np.uint8(depth * 255) , 'L')\n",
    "    depth = depth.resize((848, 480))\n",
    "\n",
    "    rgb = Image.open(path.join(package_path, 'color_frame.png'))\n",
    "    rgb = rgb.resize((848, 480))\n",
    "\n",
    "    return swap_channel(rgb, depth, 2)"
   ],
   "metadata": {
    "collapsed": false,
    "pycharm": {
     "name": "#%%\n"
    }
   }
  },
  {
   "cell_type": "code",
   "execution_count": 213,
   "outputs": [
    {
     "data": {
      "text/plain": "chunk 1/1:   0%|          | 0/125 [00:00<?, ?it/s]",
      "application/vnd.jupyter.widget-view+json": {
       "version_major": 2,
       "version_minor": 0,
       "model_id": "45f2a2d76317459f99251fe16ad67e4d"
      }
     },
     "metadata": {},
     "output_type": "display_data"
    }
   ],
   "source": [
    "STEP = 1\n",
    "REWRITE = True\n",
    "\n",
    "for chunk_i, chunk in enumerate(chunks):\n",
    "    cache_save_path = path.join(CACHE_PATH, chunk)\n",
    "    if path.exists(cache_save_path):\n",
    "        if not REWRITE:\n",
    "            continue\n",
    "        else:\n",
    "            shutil.rmtree(cache_save_path)\n",
    "    os.makedirs(cache_save_path)\n",
    "\n",
    "    packages = os.listdir(path.join(DATA_PATH, chunk))\n",
    "    packages = sort_by_suffix_number(packages)\n",
    "    for package_i, package in enumerate(tqdm(packages[::STEP], desc=f'chunk {chunk_i+1}/{len(chunks)}')):\n",
    "        image = image_from_package(path.join(DATA_PATH, chunk, package))\n",
    "        image.save(path.join(cache_save_path, str(package_i).zfill(6) + '.jpg'))"
   ],
   "metadata": {
    "collapsed": false,
    "pycharm": {
     "name": "#%%\n"
    }
   }
  },
  {
   "cell_type": "code",
   "execution_count": 213,
   "outputs": [],
   "source": [],
   "metadata": {
    "collapsed": false,
    "pycharm": {
     "name": "#%%\n"
    }
   }
  },
  {
   "cell_type": "code",
   "execution_count": 214,
   "outputs": [
    {
     "name": "stderr",
     "output_type": "stream",
     "text": [
      "Using cache found in C:\\Users\\densh/.cache\\torch\\hub\\ultralytics_yolov5_master\n",
      "YOLOv5  2022-9-18 Python-3.8.10 torch-1.12.0 CUDA:0 (NVIDIA GeForce RTX 3070, 8192MiB)\n",
      "\n",
      "Fusing layers... \n",
      "Model summary: 157 layers, 7012822 parameters, 0 gradients, 15.8 GFLOPs\n",
      "Adding AutoShape... \n"
     ]
    },
    {
     "data": {
      "text/plain": "   xmin        ymin        xmax        ymax  confidence  class    name\n0   0.0  116.283867  690.930542  427.349792    0.284762      0  object",
      "text/html": "<div>\n<style scoped>\n    .dataframe tbody tr th:only-of-type {\n        vertical-align: middle;\n    }\n\n    .dataframe tbody tr th {\n        vertical-align: top;\n    }\n\n    .dataframe thead th {\n        text-align: right;\n    }\n</style>\n<table border=\"1\" class=\"dataframe\">\n  <thead>\n    <tr style=\"text-align: right;\">\n      <th></th>\n      <th>xmin</th>\n      <th>ymin</th>\n      <th>xmax</th>\n      <th>ymax</th>\n      <th>confidence</th>\n      <th>class</th>\n      <th>name</th>\n    </tr>\n  </thead>\n  <tbody>\n    <tr>\n      <th>0</th>\n      <td>0.0</td>\n      <td>116.283867</td>\n      <td>690.930542</td>\n      <td>427.349792</td>\n      <td>0.284762</td>\n      <td>0</td>\n      <td>object</td>\n    </tr>\n  </tbody>\n</table>\n</div>"
     },
     "execution_count": 214,
     "metadata": {},
     "output_type": "execute_result"
    }
   ],
   "source": [
    "#model = torch.hub.load('ultralytics/yolov5', 'yolov5s')\n",
    "model = torch.hub.load('ultralytics/yolov5', 'custom', path=CHECKPOINT_PATH)  # local model\n",
    "\n",
    "# Image\n",
    "im = 'test/images/20220724_171831-package_10000_png.png'\n",
    "\n",
    "# Inference\n",
    "results = model(im)\n",
    "\n",
    "results.pandas().xyxy[0]"
   ],
   "metadata": {
    "collapsed": false,
    "pycharm": {
     "name": "#%%\n"
    }
   }
  },
  {
   "cell_type": "code",
   "execution_count": 214,
   "outputs": [],
   "source": [],
   "metadata": {
    "collapsed": false,
    "pycharm": {
     "name": "#%%\n"
    }
   }
  },
  {
   "cell_type": "code",
   "execution_count": 244,
   "outputs": [
    {
     "data": {
      "text/plain": "chunk 1/4:   0%|          | 0/1 [00:00<?, ?it/s]",
      "application/vnd.jupyter.widget-view+json": {
       "version_major": 2,
       "version_minor": 0,
       "model_id": "bfb9d2fd3b9440bb8a27296745b35e2d"
      }
     },
     "metadata": {},
     "output_type": "display_data"
    },
    {
     "data": {
      "text/plain": "chunk 2/4:   0%|          | 0/1 [00:00<?, ?it/s]",
      "application/vnd.jupyter.widget-view+json": {
       "version_major": 2,
       "version_minor": 0,
       "model_id": "2a41cfa524364da1b95c6975b6da1e96"
      }
     },
     "metadata": {},
     "output_type": "display_data"
    },
    {
     "data": {
      "text/plain": "chunk 3/4:   0%|          | 0/1 [00:00<?, ?it/s]",
      "application/vnd.jupyter.widget-view+json": {
       "version_major": 2,
       "version_minor": 0,
       "model_id": "23763c19a7214bd3911d01c7fc5df919"
      }
     },
     "metadata": {},
     "output_type": "display_data"
    },
    {
     "data": {
      "text/plain": "chunk 4/4:   0%|          | 0/1 [00:00<?, ?it/s]",
      "application/vnd.jupyter.widget-view+json": {
       "version_major": 2,
       "version_minor": 0,
       "model_id": "cdcd6e684de74685a052efc215602bd3"
      }
     },
     "metadata": {},
     "output_type": "display_data"
    }
   ],
   "source": [
    "BATCH_SIZE = 256\n",
    "\n",
    "model.conf = 0.01\n",
    "model.eval()\n",
    "model.cuda()\n",
    "\n",
    "\n",
    "info = []\n",
    "df = []\n",
    "\n",
    "for chunk_i, chunk in enumerate(chunks):\n",
    "    chunk_results_path = path.join(RESULTS_PATH, chunk)\n",
    "    if path.exists(chunk_results_path):\n",
    "        shutil.rmtree(chunk_results_path)\n",
    "    os.makedirs(chunk_results_path)\n",
    "\n",
    "    images = os.listdir(path.join(CACHE_PATH, chunk))\n",
    "    image_paths = [path.join(CACHE_PATH, chunk, image) for image in images]\n",
    "\n",
    "    chunk_info = []\n",
    "\n",
    "    for idx in trange((len(image_paths) - 1) // BATCH_SIZE + 1, desc=f'chunk {chunk_i+1}/{len(chunks)}'):\n",
    "        batch = image_paths[idx * BATCH_SIZE: (idx + 1) * BATCH_SIZE]\n",
    "        results = model(batch)\n",
    "\n",
    "        chunk_info.extend(results.pandas().xywh)\n",
    "\n",
    "        #results.render()\n",
    "        for img, image_path, img_idx in zip(results.ims, batch, range(len(batch))):\n",
    "            step = 20 if chunk.endswith('20') else 40\n",
    "            package = (idx * BATCH_SIZE + img_idx) * step\n",
    "            package_id = f'/{chunk}/package_{package}'\n",
    "\n",
    "            objects = results.pandas().xywhn[img_idx]\n",
    "            best = []\n",
    "            best_value = 0\n",
    "            for obj in objects.values:\n",
    "                xc, yc, w, h, conf, _, _ = obj\n",
    "                if w * h * conf > best_value:\n",
    "                    best = [xc, yc, w, h]\n",
    "                    best_value = w * h * conf\n",
    "            best = [package_id] + best\n",
    "            df.append(best)\n",
    "\n",
    "            image_path = image_path.replace(CACHE_PATH, RESULTS_PATH)\n",
    "            img = Image.fromarray(img)\n",
    "\n",
    "\n",
    "    info.append(chunk_info)"
   ],
   "metadata": {
    "collapsed": false,
    "pycharm": {
     "name": "#%%\n"
    }
   }
  },
  {
   "cell_type": "code",
   "execution_count": 246,
   "outputs": [
    {
     "data": {
      "text/plain": "                            package_id  board_point_x  board_point_y  \\\n0   /20210929_092132_step_20/package_0       0.302451       0.241510   \n1  /20210929_092132_step_20/package_20       0.277220       0.248038   \n2  /20210929_092132_step_20/package_40       0.265471       0.245764   \n3  /20210929_092132_step_20/package_60       0.272874       0.245061   \n4  /20210929_092132_step_20/package_80       0.291081       0.248336   \n\n      width    height  \n0  0.604901  0.415279  \n1  0.554440  0.402017  \n2  0.530943  0.391328  \n3  0.545748  0.399801  \n4  0.577965  0.423472  ",
      "text/html": "<div>\n<style scoped>\n    .dataframe tbody tr th:only-of-type {\n        vertical-align: middle;\n    }\n\n    .dataframe tbody tr th {\n        vertical-align: top;\n    }\n\n    .dataframe thead th {\n        text-align: right;\n    }\n</style>\n<table border=\"1\" class=\"dataframe\">\n  <thead>\n    <tr style=\"text-align: right;\">\n      <th></th>\n      <th>package_id</th>\n      <th>board_point_x</th>\n      <th>board_point_y</th>\n      <th>width</th>\n      <th>height</th>\n    </tr>\n  </thead>\n  <tbody>\n    <tr>\n      <th>0</th>\n      <td>/20210929_092132_step_20/package_0</td>\n      <td>0.302451</td>\n      <td>0.241510</td>\n      <td>0.604901</td>\n      <td>0.415279</td>\n    </tr>\n    <tr>\n      <th>1</th>\n      <td>/20210929_092132_step_20/package_20</td>\n      <td>0.277220</td>\n      <td>0.248038</td>\n      <td>0.554440</td>\n      <td>0.402017</td>\n    </tr>\n    <tr>\n      <th>2</th>\n      <td>/20210929_092132_step_20/package_40</td>\n      <td>0.265471</td>\n      <td>0.245764</td>\n      <td>0.530943</td>\n      <td>0.391328</td>\n    </tr>\n    <tr>\n      <th>3</th>\n      <td>/20210929_092132_step_20/package_60</td>\n      <td>0.272874</td>\n      <td>0.245061</td>\n      <td>0.545748</td>\n      <td>0.399801</td>\n    </tr>\n    <tr>\n      <th>4</th>\n      <td>/20210929_092132_step_20/package_80</td>\n      <td>0.291081</td>\n      <td>0.248336</td>\n      <td>0.577965</td>\n      <td>0.423472</td>\n    </tr>\n  </tbody>\n</table>\n</div>"
     },
     "execution_count": 246,
     "metadata": {},
     "output_type": "execute_result"
    }
   ],
   "source": [
    "pd_df = pd.DataFrame(df, columns=['package_id','board_point_x','board_point_y','width','height'],)\n",
    "pd_df.head()"
   ],
   "metadata": {
    "collapsed": false,
    "pycharm": {
     "name": "#%%\n"
    }
   }
  },
  {
   "cell_type": "code",
   "execution_count": 247,
   "outputs": [],
   "source": [
    "pd_df.to_csv('second.csv', index=False)"
   ],
   "metadata": {
    "collapsed": false,
    "pycharm": {
     "name": "#%%\n"
    }
   }
  },
  {
   "cell_type": "code",
   "execution_count": null,
   "outputs": [],
   "source": [],
   "metadata": {
    "collapsed": false,
    "pycharm": {
     "name": "#%%\n"
    }
   }
  },
  {
   "cell_type": "code",
   "execution_count": 216,
   "outputs": [
    {
     "data": {
      "text/plain": "      xcenter     ycenter       width      height  confidence  class    name\n0  561.734558   72.432213  572.530884  115.219460    0.021607      0  object\n1  281.766937   61.888332  533.051208   92.933022    0.019170      0  object\n2  316.621155  426.824188  632.618652  106.351624    0.016626      0  object\n3  115.270905  276.007080  205.350159   41.116043    0.012142      0  object",
      "text/html": "<div>\n<style scoped>\n    .dataframe tbody tr th:only-of-type {\n        vertical-align: middle;\n    }\n\n    .dataframe tbody tr th {\n        vertical-align: top;\n    }\n\n    .dataframe thead th {\n        text-align: right;\n    }\n</style>\n<table border=\"1\" class=\"dataframe\">\n  <thead>\n    <tr style=\"text-align: right;\">\n      <th></th>\n      <th>xcenter</th>\n      <th>ycenter</th>\n      <th>width</th>\n      <th>height</th>\n      <th>confidence</th>\n      <th>class</th>\n      <th>name</th>\n    </tr>\n  </thead>\n  <tbody>\n    <tr>\n      <th>0</th>\n      <td>561.734558</td>\n      <td>72.432213</td>\n      <td>572.530884</td>\n      <td>115.219460</td>\n      <td>0.021607</td>\n      <td>0</td>\n      <td>object</td>\n    </tr>\n    <tr>\n      <th>1</th>\n      <td>281.766937</td>\n      <td>61.888332</td>\n      <td>533.051208</td>\n      <td>92.933022</td>\n      <td>0.019170</td>\n      <td>0</td>\n      <td>object</td>\n    </tr>\n    <tr>\n      <th>2</th>\n      <td>316.621155</td>\n      <td>426.824188</td>\n      <td>632.618652</td>\n      <td>106.351624</td>\n      <td>0.016626</td>\n      <td>0</td>\n      <td>object</td>\n    </tr>\n    <tr>\n      <th>3</th>\n      <td>115.270905</td>\n      <td>276.007080</td>\n      <td>205.350159</td>\n      <td>41.116043</td>\n      <td>0.012142</td>\n      <td>0</td>\n      <td>object</td>\n    </tr>\n  </tbody>\n</table>\n</div>"
     },
     "execution_count": 216,
     "metadata": {},
     "output_type": "execute_result"
    }
   ],
   "source": [
    "info[0][0]"
   ],
   "metadata": {
    "collapsed": false,
    "pycharm": {
     "name": "#%%\n"
    }
   }
  },
  {
   "cell_type": "code",
   "execution_count": 217,
   "outputs": [
    {
     "ename": "ValueError",
     "evalue": "'20220719_183951' is not in list",
     "output_type": "error",
     "traceback": [
      "\u001B[1;31m---------------------------------------------------------------------------\u001B[0m",
      "\u001B[1;31mValueError\u001B[0m                                Traceback (most recent call last)",
      "Input \u001B[1;32mIn [217]\u001B[0m, in \u001B[0;36m<cell line: 4>\u001B[1;34m()\u001B[0m\n\u001B[0;32m      5\u001B[0m chunk \u001B[38;5;241m=\u001B[39m image[:image\u001B[38;5;241m.\u001B[39mindex(\u001B[38;5;124m'\u001B[39m\u001B[38;5;124m-\u001B[39m\u001B[38;5;124m'\u001B[39m)]\n\u001B[0;32m      6\u001B[0m package \u001B[38;5;241m=\u001B[39m image[image\u001B[38;5;241m.\u001B[39mindex(\u001B[38;5;124m'\u001B[39m\u001B[38;5;124m-\u001B[39m\u001B[38;5;124m'\u001B[39m)\u001B[38;5;241m+\u001B[39m\u001B[38;5;241m1\u001B[39m: image\u001B[38;5;241m.\u001B[39mindex(\u001B[38;5;124m'\u001B[39m\u001B[38;5;124m_png\u001B[39m\u001B[38;5;124m'\u001B[39m)]\n\u001B[1;32m----> 7\u001B[0m train_set[\u001B[43mchunks\u001B[49m\u001B[38;5;241;43m.\u001B[39;49m\u001B[43mindex\u001B[49m\u001B[43m(\u001B[49m\u001B[43mchunk\u001B[49m\u001B[43m)\u001B[49m]\u001B[38;5;241m.\u001B[39mappend(\u001B[38;5;28mint\u001B[39m(package[package\u001B[38;5;241m.\u001B[39mindex(\u001B[38;5;124m'\u001B[39m\u001B[38;5;124m_\u001B[39m\u001B[38;5;124m'\u001B[39m) \u001B[38;5;241m+\u001B[39m \u001B[38;5;241m1\u001B[39m:]))\n",
      "\u001B[1;31mValueError\u001B[0m: '20220719_183951' is not in list"
     ]
    }
   ],
   "source": [
    "TRAIN_IMAGES_PATH = 'train/images'\n",
    "train_set = [[] for _ in chunks]\n",
    "\n",
    "for image in os.listdir(TRAIN_IMAGES_PATH):\n",
    "    chunk = image[:image.index('-')]\n",
    "    package = image[image.index('-')+1: image.index('_png')]\n",
    "    train_set[chunks.index(chunk)].append(int(package[package.index('_') + 1:]))\n"
   ],
   "metadata": {
    "collapsed": false,
    "pycharm": {
     "name": "#%%\n"
    }
   }
  },
  {
   "cell_type": "code",
   "execution_count": null,
   "outputs": [],
   "source": [
    "train_set = list(map(lambda l: list(sorted(l)), train_set))\n",
    "\n",
    "def find_distance(chunk_i, package):\n",
    "    dist = 1e9\n",
    "    for t_package in train_set[chunk_i]:\n",
    "        dist = min(dist, abs(t_package - package))\n",
    "    return dist"
   ],
   "metadata": {
    "collapsed": false,
    "pycharm": {
     "name": "#%%\n"
    }
   }
  },
  {
   "cell_type": "code",
   "execution_count": null,
   "outputs": [],
   "source": [],
   "metadata": {
    "collapsed": false,
    "pycharm": {
     "name": "#%%\n"
    }
   }
  },
  {
   "cell_type": "code",
   "execution_count": null,
   "outputs": [],
   "source": [],
   "metadata": {
    "collapsed": false,
    "pycharm": {
     "name": "#%%\n"
    }
   }
  },
  {
   "cell_type": "code",
   "execution_count": null,
   "outputs": [],
   "source": [
    "PREDICTION_THRESHOLD = 0.1\n",
    "IN_TRAIN_THRESHOLD = 10\n",
    "\n",
    "for chunk_i, _ in enumerate(chunks):\n",
    "    df = []\n",
    "    for i, res in enumerate(info[chunk_i]):\n",
    "        package = i * 10\n",
    "        in_train = find_distance(chunk_i, package) < IN_TRAIN_THRESHOLD\n",
    "\n",
    "        for j in range(len(res)):\n",
    "            if res.confidence[j] > PREDICTION_THRESHOLD:\n",
    "                df.append([res.confidence[j], len(res), package, in_train])\n",
    "        if len(res) == 0:\n",
    "            df.append([0, 0, package, in_train])\n",
    "\n",
    "    df = pd.DataFrame(df, columns=['confidence', 'count', 'package', 'in_train'])\n",
    "\n",
    "    #df.head()\n",
    "\n",
    "    px.scatter(df, x='package', y='confidence', color='in_train', title=f'Chunk {chunk_i+1}').show()"
   ],
   "metadata": {
    "collapsed": false,
    "pycharm": {
     "name": "#%%\n"
    }
   }
  },
  {
   "cell_type": "code",
   "execution_count": null,
   "outputs": [],
   "source": [
    "df"
   ],
   "metadata": {
    "collapsed": false,
    "pycharm": {
     "name": "#%%\n"
    }
   }
  },
  {
   "cell_type": "code",
   "execution_count": null,
   "outputs": [],
   "source": [
    "package_number"
   ],
   "metadata": {
    "collapsed": false,
    "pycharm": {
     "name": "#%%\n"
    }
   }
  },
  {
   "cell_type": "code",
   "execution_count": null,
   "outputs": [],
   "source": [
    "model.eval()\n",
    "model.cpu()"
   ],
   "metadata": {
    "collapsed": false,
    "pycharm": {
     "name": "#%%\n"
    }
   }
  },
  {
   "cell_type": "code",
   "execution_count": null,
   "outputs": [],
   "source": [
    "im = 'https://ultralytics.com/images/zidane.jpg'\n",
    "model(torch.zeros(16,3,320,640))"
   ],
   "metadata": {
    "collapsed": false,
    "pycharm": {
     "name": "#%%\n"
    }
   }
  },
  {
   "cell_type": "code",
   "execution_count": null,
   "outputs": [],
   "source": [],
   "metadata": {
    "collapsed": false,
    "pycharm": {
     "name": "#%%\n"
    }
   }
  },
  {
   "cell_type": "code",
   "execution_count": null,
   "outputs": [],
   "source": [],
   "metadata": {
    "collapsed": false,
    "pycharm": {
     "name": "#%%\n"
    }
   }
  },
  {
   "cell_type": "code",
   "execution_count": null,
   "outputs": [],
   "source": [],
   "metadata": {
    "collapsed": false,
    "pycharm": {
     "name": "#%%\n"
    }
   }
  },
  {
   "cell_type": "code",
   "execution_count": null,
   "outputs": [],
   "source": [],
   "metadata": {
    "collapsed": false,
    "pycharm": {
     "name": "#%%\n"
    }
   }
  },
  {
   "cell_type": "code",
   "execution_count": 248,
   "outputs": [
    {
     "data": {
      "text/plain": "                            package_id  board_point_x  board_point_y  \\\n0   /20210901_152837_step_20/package_0       0.662423       0.150900   \n1  /20210901_152837_step_20/package_20       0.470290       0.426742   \n2  /20210901_152837_step_20/package_40       0.476865       0.463949   \n3  /20210901_152837_step_20/package_60       0.419723       0.510827   \n4  /20210901_152837_step_20/package_80       0.367799       0.490305   \n\n      width    height  \n0  0.675154  0.240041  \n1  0.455736  0.221560  \n2  0.501136  0.248610  \n3  0.601290  0.326172  \n4  0.715931  0.283628  ",
      "text/html": "<div>\n<style scoped>\n    .dataframe tbody tr th:only-of-type {\n        vertical-align: middle;\n    }\n\n    .dataframe tbody tr th {\n        vertical-align: top;\n    }\n\n    .dataframe thead th {\n        text-align: right;\n    }\n</style>\n<table border=\"1\" class=\"dataframe\">\n  <thead>\n    <tr style=\"text-align: right;\">\n      <th></th>\n      <th>package_id</th>\n      <th>board_point_x</th>\n      <th>board_point_y</th>\n      <th>width</th>\n      <th>height</th>\n    </tr>\n  </thead>\n  <tbody>\n    <tr>\n      <th>0</th>\n      <td>/20210901_152837_step_20/package_0</td>\n      <td>0.662423</td>\n      <td>0.150900</td>\n      <td>0.675154</td>\n      <td>0.240041</td>\n    </tr>\n    <tr>\n      <th>1</th>\n      <td>/20210901_152837_step_20/package_20</td>\n      <td>0.470290</td>\n      <td>0.426742</td>\n      <td>0.455736</td>\n      <td>0.221560</td>\n    </tr>\n    <tr>\n      <th>2</th>\n      <td>/20210901_152837_step_20/package_40</td>\n      <td>0.476865</td>\n      <td>0.463949</td>\n      <td>0.501136</td>\n      <td>0.248610</td>\n    </tr>\n    <tr>\n      <th>3</th>\n      <td>/20210901_152837_step_20/package_60</td>\n      <td>0.419723</td>\n      <td>0.510827</td>\n      <td>0.601290</td>\n      <td>0.326172</td>\n    </tr>\n    <tr>\n      <th>4</th>\n      <td>/20210901_152837_step_20/package_80</td>\n      <td>0.367799</td>\n      <td>0.490305</td>\n      <td>0.715931</td>\n      <td>0.283628</td>\n    </tr>\n  </tbody>\n</table>\n</div>"
     },
     "execution_count": 248,
     "metadata": {},
     "output_type": "execute_result"
    }
   ],
   "source": [
    "df = pd.read_csv('DPMTeam.csv')\n",
    "df.head()"
   ],
   "metadata": {
    "collapsed": false,
    "pycharm": {
     "name": "#%%\n"
    }
   }
  },
  {
   "cell_type": "code",
   "execution_count": 274,
   "outputs": [],
   "source": [
    "for row in tqdm(df.values):\n",
    "\n",
    "    package, xc, yc, w, h = row\n",
    "    img_path = path.join(DATA_PATH, package[1:], 'color_frame.png')\n",
    "    img = Image.open(img_path)\n",
    "    img = img.resize((848, 480))\n",
    "\n",
    "    draw = ImageDraw.Draw(img)\n",
    "    x1, y1, x2, y2 = xc - w/2, yc - h/2, xc + w/2, yc + h/2\n",
    "    x1, y1, x2, y2 = x1 * img.width, y1 * img.height, x2 * img.width, y2 * img.height\n",
    "\n",
    "    draw.rectangle((x1, y1, x2, y2), outline='red', width=4)\n",
    "\n",
    "\n",
    "    chunk = package[1: package.index('/p')]\n",
    "    chunk_results_path = path.join(DATA_PATH, 'render', chunk)\n",
    "    #if path.exists(chunk_results_path):\n",
    "        #shutil.rmtree(chunk_results_path)\n",
    "    #os.makedirs(chunk_results_path)\n",
    "\n",
    "    step = 20 if chunk.endswith('20') else 40\n",
    "    package_num = int(package[package.rindex('_')+1:])\n",
    "    img.save(path.join(chunk_results_path, str(package_num // step).zfill(6) + '.jpg'))\n",
    "\n",
    "\n"
   ],
   "metadata": {
    "collapsed": false,
    "pycharm": {
     "name": "#%%\n"
    }
   }
  },
  {
   "cell_type": "code",
   "execution_count": 265,
   "outputs": [],
   "source": [],
   "metadata": {
    "collapsed": false,
    "pycharm": {
     "name": "#%%\n"
    }
   }
  }
 ],
 "metadata": {
  "kernelspec": {
   "display_name": "Python 3",
   "language": "python",
   "name": "python3"
  },
  "language_info": {
   "codemirror_mode": {
    "name": "ipython",
    "version": 2
   },
   "file_extension": ".py",
   "mimetype": "text/x-python",
   "name": "python",
   "nbconvert_exporter": "python",
   "pygments_lexer": "ipython2",
   "version": "2.7.6"
  }
 },
 "nbformat": 4,
 "nbformat_minor": 0
}